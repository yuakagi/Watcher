{
 "cells": [
  {
   "cell_type": "code",
   "execution_count": null,
   "metadata": {},
   "outputs": [],
   "source": [
    "import os\n",
    "import psycopg\n",
    "import numpy as np\n",
    "from watcher.models import WatcherGui\n",
    "from watcher.preprocess import preprocess_for_inference\n",
    "from watcher.utils import get_gpu_devices, get_mig_devices, load_psycopg_params, shuffle_timeline_matrix_indexes\n",
    "from watcher.general_params import watcher_config as config"
   ]
  },
  {
   "cell_type": "markdown",
   "metadata": {},
   "source": [
    "### Step1: Checl your available GPU devices (UUID)"
   ]
  },
  {
   "cell_type": "code",
   "execution_count": null,
   "metadata": {},
   "outputs": [],
   "source": [
    "mig_devices = get_mig_devices()\n",
    "if mig_devices:\n",
    "    print(\"MIG devices:\")\n",
    "    for d in mig_devices:\n",
    "        print(d)\n",
    "gpu_devices = get_gpu_devices()\n",
    "if gpu_devices:\n",
    "    print(\"GPU devices:\")\n",
    "    for d in gpu_devices:\n",
    "        print(d)\n",
    "\n",
    "# Device list will be desplayed below"
   ]
  },
  {
   "cell_type": "markdown",
   "metadata": {},
   "source": [
    "### Step2: Set your GPU to use"
   ]
  },
  {
   "cell_type": "code",
   "execution_count": null,
   "metadata": {},
   "outputs": [],
   "source": [
    "device = 'Set your gpu device here'"
   ]
  },
  {
   "cell_type": "code",
   "execution_count": null,
   "metadata": {},
   "outputs": [],
   "source": [
    "os.environ['CUDA_VISIBLE_DEVICES'] = device"
   ]
  },
  {
   "cell_type": "markdown",
   "metadata": {},
   "source": [
    "### Step3: Set model blueprint, and instantiate GUI class"
   ]
  },
  {
   "cell_type": "code",
   "execution_count": null,
   "metadata": {},
   "outputs": [],
   "source": [
    "blueprint = \"Specify the path to the model blueprint here\""
   ]
  },
  {
   "cell_type": "code",
   "execution_count": null,
   "metadata": {},
   "outputs": [],
   "source": [
    "# Instantiate a gui model\n",
    "gui = WatcherGui(blueprint=blueprint, \n",
    "                 temperature=1.0,\n",
    "                 device=\"cuda:0\",)"
   ]
  },
  {
   "cell_type": "markdown",
   "metadata": {},
   "source": [
    "### Step4: Setup data base schema, and pick up a sample patient data"
   ]
  },
  {
   "cell_type": "code",
   "execution_count": null,
   "metadata": {},
   "outputs": [],
   "source": [
    "# Specify schema name if it is not 'public'\n",
    "schema = \"public\""
   ]
  },
  {
   "cell_type": "code",
   "execution_count": null,
   "metadata": {},
   "outputs": [],
   "source": [
    "# Set up patient ID, or set this to None for random sampling \n",
    "patient_id = None\n",
    "\n",
    "# If patient ID is None, randomly selected.\n",
    "if patient_id is None:\n",
    "    query = f\"SELECT patient_id FROM {schema}.patients ORDER BY RANDOM() LIMIT 1;\"\n",
    "\n",
    "    with psycopg.connect(load_psycopg_params()) as conn:\n",
    "        with conn.cursor() as cur:\n",
    "            cur.execute(query)\n",
    "            result = cur.fetchone()\n",
    "            patient_id = result[0] if result else None\n",
    "\n",
    "print(\"Selected patient:\", patient_id)"
   ]
  },
  {
   "cell_type": "code",
   "execution_count": null,
   "metadata": {},
   "outputs": [],
   "source": [
    "input_matrix, catalog_indexes, dob = preprocess_for_inference(patient_id=patient_id,\n",
    "                                                              db_schema=schema,\n",
    "                                                              model=gui.model,\n",
    "                                                              start=None,\n",
    "                                                              end=None)\n",
    "print(input_matrix.size())"
   ]
  },
  {
   "cell_type": "markdown",
   "metadata": {},
   "source": [
    "### Step5: Run GUI demo."
   ]
  },
  {
   "cell_type": "code",
   "execution_count": null,
   "metadata": {},
   "outputs": [],
   "source": [
    "# Keep these codes as is\n",
    "shuffle = config.SHUFFLE_INPUT\n",
    "if shuffle:\n",
    "    shuffled_idx = shuffle_timeline_matrix_indexes(timeline_matrix=input_matrix.squeeze(0),\n",
    "                                                pad_start=None,\n",
    "                                                dsc_idx=gui.model.dsc_index,\n",
    "                                                eot_idx=gui.model.eot_index,\n",
    "                                                lab_code_token_idx=gui.model.lab_token_index,\n",
    "                                                k=1,\n",
    "                                                max_random_integer=1000)[0]\n",
    "    shuffled_matrix = input_matrix[:, shuffled_idx, :]\n",
    "    shuffled_indexes = np.array(catalog_indexes)[shuffled_idx].tolist()\n",
    "    gui.set_timeline(shuffled_matrix, shuffled_indexes)\n",
    "else:\n",
    "    gui.set_timeline(input_matrix, catalog_indexes)"
   ]
  },
  {
   "cell_type": "code",
   "execution_count": null,
   "metadata": {},
   "outputs": [],
   "source": [
    "# Run the GUI demo\n",
    "gui.demo_retrospective(dpi=500)\n"
   ]
  }
 ],
 "metadata": {
  "kernelspec": {
   "display_name": "Python 3",
   "language": "python",
   "name": "python3"
  },
  "language_info": {
   "codemirror_mode": {
    "name": "ipython",
    "version": 3
   },
   "file_extension": ".py",
   "mimetype": "text/x-python",
   "name": "python",
   "nbconvert_exporter": "python",
   "pygments_lexer": "ipython3",
   "version": "3.10.12"
  }
 },
 "nbformat": 4,
 "nbformat_minor": 2
}
